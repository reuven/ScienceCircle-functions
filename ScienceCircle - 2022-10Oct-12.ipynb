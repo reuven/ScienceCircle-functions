{
 "cells": [
  {
   "cell_type": "markdown",
   "metadata": {},
   "source": [
    "# Function dissection lab\n",
    "\n",
    "1. What happens when we define a function?\n",
    "2. Byte codes and Python compilation\n",
    "3. Some attributes of the `__code__` attribute of a function object"
   ]
  },
  {
   "cell_type": "code",
   "execution_count": 1,
   "metadata": {},
   "outputs": [],
   "source": [
    "def hello(name):\n",
    "    return f'Hello, {name}!'"
   ]
  },
  {
   "cell_type": "markdown",
   "metadata": {},
   "source": [
    "# What is the above?\n",
    "\n",
    "I defined a function.\n",
    "\n",
    "Let's be more specific:\n",
    "\n",
    "1. I created a function object.\n",
    "2. I assigned that function object to a variable -- in this case, `hello`.\n",
    "\n",
    "In Python, everything is an object. That means: Everything follows the same rules.   This means that while we often think of functions as verbs, which do things, they are also nouns -- which we can store in variables, pass to other functions as arguments, and everything else you can do with strings, lists, tuples, dicts, etc.\n",
    "\n",
    "When we define our function, Python's compiler looks at the fu"
   ]
  }
 ],
 "metadata": {
  "kernelspec": {
   "display_name": "Python 3 (ipykernel)",
   "language": "python",
   "name": "python3"
  },
  "language_info": {
   "codemirror_mode": {
    "name": "ipython",
    "version": 3
   },
   "file_extension": ".py",
   "mimetype": "text/x-python",
   "name": "python",
   "nbconvert_exporter": "python",
   "pygments_lexer": "ipython3",
   "version": "3.10.6"
  }
 },
 "nbformat": 4,
 "nbformat_minor": 4
}
