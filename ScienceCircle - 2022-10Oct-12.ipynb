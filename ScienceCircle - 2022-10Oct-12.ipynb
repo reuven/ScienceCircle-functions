{
 "cells": [
  {
   "cell_type": "markdown",
   "metadata": {},
   "source": [
    "# Function dissection lab\n",
    "\n",
    "1. What happens when we define a function?\n",
    "2. Byte codes and Python compilation\n",
    "3. Some attributes of the `__code__` attribute of a function object"
   ]
  },
  {
   "cell_type": "code",
   "execution_count": 1,
   "metadata": {},
   "outputs": [],
   "source": [
    "def hello(name):\n",
    "    return f'Hello, {name}!'"
   ]
  },
  {
   "cell_type": "markdown",
   "metadata": {},
   "source": [
    "# What is the above?\n",
    "\n",
    "I defined a function.\n",
    "\n",
    "Let's be more specific:\n",
    "\n",
    "1. I created a function object.\n",
    "2. I assigned that function object to a variable -- in this case, `hello`.\n",
    "\n",
    "In Python, everything is an object. That means: Everything follows the same rules.   This means that while we often think of functions as verbs, which do things, they are also nouns -- which we can store in variables, pass to other functions as arguments, and everything else you can do with strings, lists, tuples, dicts, etc.\n",
    "\n",
    "When we define our function, Python's compiler looks at the function's definition, and writes all sorts of hints to itself for how to execute things down the line."
   ]
  },
  {
   "cell_type": "markdown",
   "metadata": {},
   "source": [
    "# Wait -- Python is compiled?\n",
    "\n",
    "Python is compiled in the same way that Java and .NET are compiled:\n",
    "\n",
    "1. First, the code is turned into a universal assembly language -- in our case, they're known as bytecodes.  This happens once, when the function is defined.\n",
    "2. Then, those bytecodes are executed by a Python interpreter every time we run the funciton.\n",
    "\n",
    "In the Python world, it's extremely rare to separate the compilation and runtime steps. Normally, when you \"run\" a Python program, it's first compiled and then executed."
   ]
  },
  {
   "cell_type": "code",
   "execution_count": 2,
   "metadata": {},
   "outputs": [
    {
     "data": {
      "text/plain": [
       "function"
      ]
     },
     "execution_count": 2,
     "metadata": {},
     "output_type": "execute_result"
    }
   ],
   "source": [
    "# our function, hello, was compiled.\n",
    "# let's take a look at the function object\n",
    "\n",
    "type(hello)  # remember -- hello is a variable referring to a function!"
   ]
  },
  {
   "cell_type": "code",
   "execution_count": 3,
   "metadata": {},
   "outputs": [
    {
     "data": {
      "text/plain": [
       "<code object hello at 0x10d7da290, file \"/var/folders/d9/v8tsklln4477fll05wkgcpth0000gn/T/ipykernel_18597/3631425946.py\", line 1>"
      ]
     },
     "execution_count": 3,
     "metadata": {},
     "output_type": "execute_result"
    }
   ],
   "source": [
    "# since hello refers to a function object\n",
    "# since all objects in Python have attributes\n",
    "# it stands to reason that our function object has attributes\n",
    "# it does -- including the __code__ attribute, which contains\n",
    "#  the byte-compiled core of the function object\n",
    "\n",
    "hello.__code__   # \"dunder code\" -- \"double underscore, before and after, code\""
   ]
  },
  {
   "cell_type": "code",
   "execution_count": 4,
   "metadata": {},
   "outputs": [
    {
     "data": {
      "text/plain": [
       "['__class__',\n",
       " '__delattr__',\n",
       " '__dir__',\n",
       " '__doc__',\n",
       " '__eq__',\n",
       " '__format__',\n",
       " '__ge__',\n",
       " '__getattribute__',\n",
       " '__gt__',\n",
       " '__hash__',\n",
       " '__init__',\n",
       " '__init_subclass__',\n",
       " '__le__',\n",
       " '__lt__',\n",
       " '__ne__',\n",
       " '__new__',\n",
       " '__reduce__',\n",
       " '__reduce_ex__',\n",
       " '__repr__',\n",
       " '__setattr__',\n",
       " '__sizeof__',\n",
       " '__str__',\n",
       " '__subclasshook__',\n",
       " 'co_argcount',\n",
       " 'co_cellvars',\n",
       " 'co_code',\n",
       " 'co_consts',\n",
       " 'co_filename',\n",
       " 'co_firstlineno',\n",
       " 'co_flags',\n",
       " 'co_freevars',\n",
       " 'co_kwonlyargcount',\n",
       " 'co_lines',\n",
       " 'co_linetable',\n",
       " 'co_lnotab',\n",
       " 'co_name',\n",
       " 'co_names',\n",
       " 'co_nlocals',\n",
       " 'co_posonlyargcount',\n",
       " 'co_stacksize',\n",
       " 'co_varnames',\n",
       " 'replace']"
      ]
     },
     "execution_count": 4,
     "metadata": {},
     "output_type": "execute_result"
    }
   ],
   "source": [
    "# what's truly interesting is that this __code__ object also has attributes\n",
    "dir(hello.__code__)  # what attributes does this object have?"
   ]
  },
  {
   "cell_type": "code",
   "execution_count": 5,
   "metadata": {},
   "outputs": [
    {
     "data": {
      "text/plain": [
       "b'd\\x01|\\x00\\x9b\\x00d\\x02\\x9d\\x03S\\x00'"
      ]
     },
     "execution_count": 5,
     "metadata": {},
     "output_type": "execute_result"
    }
   ],
   "source": [
    "# let's look at the bytecodes themselves!\n",
    "hello.__code__.co_code"
   ]
  },
  {
   "cell_type": "code",
   "execution_count": null,
   "metadata": {},
   "outputs": [],
   "source": [
    "# how can we turn the bytecodes into something readable, and understand\n",
    "# what Python is doing?\n",
    "\n",
    "# "
   ]
  }
 ],
 "metadata": {
  "kernelspec": {
   "display_name": "Python 3 (ipykernel)",
   "language": "python",
   "name": "python3"
  },
  "language_info": {
   "codemirror_mode": {
    "name": "ipython",
    "version": 3
   },
   "file_extension": ".py",
   "mimetype": "text/x-python",
   "name": "python",
   "nbconvert_exporter": "python",
   "pygments_lexer": "ipython3",
   "version": "3.10.6"
  }
 },
 "nbformat": 4,
 "nbformat_minor": 4
}
